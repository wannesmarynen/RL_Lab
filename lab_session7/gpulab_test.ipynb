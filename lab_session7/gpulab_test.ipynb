{
 "cells": [
  {
   "cell_type": "markdown",
   "metadata": {
    "colab_type": "text",
    "id": "OGqnGCpksLQz"
   },
   "source": [
    "# Lab session 7\n",
    "\n",
    "In this notebook, we'll be building a vanilla DQN, a DQN with experience replay, a DQN with target networks. \n",
    "### What is DQN?\n",
    "\n",
    "DQN is the first deep reinforcement learning method proposed by DeepMind, it overcomes unstable learning by mainly 4 techniques:\n",
    ">* Experience Replay.\n",
    "* Target Network.\n",
    "* Clipping Rewards.\n",
    "* Skipping Frames. \n",
    "\n",
    "To keep this lab session in time, instead of using gym atari we'll work with classic cart pole environment.\n",
    "<img src='assets/cartpole.gif' width=50% />\n",
    "\n",
    "#### Note:-\n",
    "Apart from submitting code, please add your answer to questions mentioned in lab session.\n",
    "Operation on cuda are fast. Try keeping all your operations on it.\n"
   ]
  },
  {
   "cell_type": "markdown",
   "metadata": {
    "colab_type": "text",
    "id": "z5ln45VPsLQ3"
   },
   "source": [
    "--------"
   ]
  },
  {
   "cell_type": "markdown",
   "metadata": {
    "colab_type": "text",
    "id": "Jh8kyVltsLQ7"
   },
   "source": [
    "#### Import"
   ]
  },
  {
   "cell_type": "code",
   "execution_count": 2,
   "metadata": {
    "colab": {},
    "colab_type": "code",
    "id": "nXrO1S-4sLQ9",
    "pycharm": {
     "is_executing": false
    }
   },
   "outputs": [],
   "source": [
    "import math, random\n",
    "\n",
    "import cv2\n",
    "import gym\n",
    "import numpy as np\n",
    "from collections import deque\n",
    "\n",
    "\n",
    "import torch\n",
    "import torch.nn as nn\n",
    "import torch.optim as optim\n",
    "import torch.autograd as autograd \n",
    "import torch.nn.functional as F"
   ]
  },
  {
   "cell_type": "code",
   "execution_count": 2,
   "metadata": {
    "colab": {},
    "colab_type": "code",
    "id": "nj00nCxSsLRN",
    "pycharm": {
     "is_executing": false
    }
   },
   "outputs": [],
   "source": []
  },
  {
   "cell_type": "code",
   "execution_count": 3,
   "metadata": {
    "colab": {},
    "colab_type": "code",
    "id": "KOjh-ZDisLRf",
    "pycharm": {
     "is_executing": false
    }
   },
   "outputs": [],
   "source": [
    "import IPython.display as display\n",
    "from IPython.display import clear_output\n",
    "import matplotlib.pyplot as plt\n",
    "%matplotlib inline"
   ]
  },
  {
   "cell_type": "code",
   "execution_count": 3,
   "metadata": {
    "pycharm": {
     "is_executing": false
    }
   },
   "outputs": [],
   "source": []
  },
  {
   "cell_type": "markdown",
   "metadata": {
    "colab_type": "text",
    "id": "IWC1ntdosLRp"
   },
   "source": [
    "**Note** *test()* function is a function to watch your agent play the game after training. Call the following function by passing your trained model and environment name as parameter.\n",
    "\n",
    "It returns a list of rewards."
   ]
  },
  {
   "cell_type": "code",
   "execution_count": 4,
   "metadata": {
    "colab": {},
    "colab_type": "code",
    "id": "DJkdSXHWsLRr",
    "pycharm": {
     "is_executing": false
    }
   },
   "outputs": [],
   "source": [
    "def test(env_id, model):\n",
    "    \"\"\"\n",
    "    Method to play 30 games with trained agent.\n",
    "    \n",
    "    Parameters\n",
    "    ----------\n",
    "    env_id: str\n",
    "        name of your environment\n",
    "    model: model\n",
    "    \n",
    "    Returns\n",
    "    all_test_rewards: list\n",
    "        list of rewards collected in 30 episodes.\n",
    "    \"\"\"\n",
    "    env = gym.make(env_id)\n",
    "    all_test_rewards = list()\n",
    "    episode_reward = 0\n",
    "    episode_count = 0\n",
    "    state = env.reset()\n",
    "    plt.figure(figsize=(9,9))\n",
    "    img = plt.imshow(env.render(mode='rgb_array')) # only call this once\n",
    "    while True:\n",
    "        if episode_count == 30:\n",
    "            break\n",
    "        img.set_data(env.render(mode='rgb_array')) # just update the data\n",
    "        # display.display(plt.gcf())\n",
    "        # display.clear_output(wait=True)\n",
    "        action = model.act(state,-1) # -ve epsilon so it always choses the policy it learned rather than random action\n",
    "        next_state, reward, done, _ = env.step(action)\n",
    "        if not done:\n",
    "            episode_reward += reward\n",
    "        else:\n",
    "            state = env.reset()\n",
    "            all_test_rewards.append(episode_reward)\n",
    "            print(episode_reward)\n",
    "            episode_reward = 0\n",
    "            episode_count += 1\n",
    "    print(\"The mean score of your agent: \", np.mean(all_test_rewards))\n",
    "    env.close()\n",
    "    return all_test_rewards"
   ]
  },
  {
   "cell_type": "markdown",
   "metadata": {
    "colab_type": "text",
    "id": "OS5QZWCDsLR1"
   },
   "source": [
    "#### Set cuda"
   ]
  },
  {
   "cell_type": "code",
   "execution_count": 5,
   "metadata": {
    "colab": {},
    "colab_type": "code",
    "id": "ctEbKR3_sLR2",
    "pycharm": {
     "is_executing": false
    }
   },
   "outputs": [
    {
     "name": "stdout",
     "text": [
      "True\n"
     ],
     "output_type": "stream"
    }
   ],
   "source": [
    "USE_CUDA = torch.cuda.is_available()\n",
    "print(USE_CUDA)\n",
    "Variable = lambda *args, **kwargs: autograd.Variable(*args, **kwargs).cuda() if USE_CUDA else autograd.Variable(*args, **kwargs)"
   ]
  },
  {
   "cell_type": "markdown",
   "metadata": {
    "colab_type": "text",
    "id": "QreopiqusLR_"
   },
   "source": [
    "#### Cart Pole Environment"
   ]
  },
  {
   "cell_type": "code",
   "execution_count": 6,
   "metadata": {
    "colab": {},
    "colab_type": "code",
    "id": "hfQdbkwGsLSB",
    "pycharm": {
     "is_executing": false
    }
   },
   "outputs": [],
   "source": [
    "env_id = \"CartPole-v0\"\n",
    "env = gym.make(env_id)"
   ]
  },
  {
   "cell_type": "markdown",
   "metadata": {
    "colab_type": "text",
    "id": "h7RPE34bsLSM"
   },
   "source": [
    "#### Epsilon greedy exploration\n",
    "I'm sure you know the importance of epsilon. \n",
    "we are gonna plot the decay and you can see how it will behave for 10000 steps"
   ]
  },
  {
   "cell_type": "code",
   "execution_count": 7,
   "metadata": {
    "colab": {},
    "colab_type": "code",
    "id": "kCp__pX4sLSO",
    "pycharm": {
     "is_executing": false
    }
   },
   "outputs": [],
   "source": [
    "epsilon_start = 1.0\n",
    "epsilon_final = 0.01\n",
    "epsilon_decay = 500\n",
    "\n",
    "epsilon_by_frame = lambda frame_idx: epsilon_final + (epsilon_start - epsilon_final) * math.exp(-1. * frame_idx / epsilon_decay)"
   ]
  },
  {
   "cell_type": "code",
   "execution_count": 8,
   "metadata": {
    "colab": {
     "base_uri": "https://localhost:8080/",
     "height": 283
    },
    "colab_type": "code",
    "id": "8We9mg0LsLSV",
    "outputId": "038862a3-2b6d-4b75-8304-ec9c8d51759e",
    "pycharm": {
     "is_executing": false
    }
   },
   "outputs": [
    {
     "data": {
      "text/plain": "[<matplotlib.lines.Line2D at 0x24ab85f4308>]"
     },
     "metadata": {},
     "output_type": "execute_result",
     "execution_count": 8
    },
    {
     "data": {
      "text/plain": "<Figure size 432x288 with 1 Axes>",
      "image/png": "[encoded data removed]"
     },
     "metadata": {
      "needs_background": "light"
     },
     "output_type": "display_data"
    }
   ],
   "source": [
    "plt.plot([epsilon_by_frame(i) for i in range(10000)])"
   ]
  },
  {
   "cell_type": "markdown",
   "metadata": {
    "colab_type": "text",
    "id": "BJlyPWCZsLSj"
   },
   "source": [
    "### Deep Q-Network"
   ]
  },
  {
   "cell_type": "code",
   "execution_count": 9,
   "metadata": {
    "colab": {},
    "colab_type": "code",
    "id": "EmeIaWRAsLSl",
    "pycharm": {
     "is_executing": false
    }
   },
   "outputs": [],
   "source": [
    "class DQN(nn.Module):\n",
    "    def __init__(self, num_inputs, num_actions):\n",
    "        super(DQN, self).__init__()\n",
    "        self.num_inputs = num_inputs\n",
    "        self.num_actions = num_actions\n",
    "        self.fc1 = nn.Linear(num_inputs, 128)\n",
    "        self.fc2 = nn.Linear(128, 128)\n",
    "        self.fc3 = nn.Linear(128, self.num_actions)\n",
    "        \n",
    "    def forward(self, x):\n",
    "        x = self.fc1(x)\n",
    "        x = F.relu(x)\n",
    "        x = self.fc2(x)\n",
    "        x = F.relu(x)\n",
    "        x = self.fc3(x)\n",
    "        return x\n",
    "    \n",
    "    def act(self, state, epsilon):\n",
    "        if random.random() > epsilon:\n",
    "            with torch.no_grad():\n",
    "                state   = Variable(torch.FloatTensor(state).unsqueeze(0))\n",
    "            q_value = self.forward(state)\n",
    "            action  = q_value.max(1)[1].data[0].cpu().numpy().tolist()\n",
    "        else:\n",
    "            action = random.randrange(self.num_actions)\n",
    "        return action"
   ]
  },
  {
   "cell_type": "code",
   "execution_count": 10,
   "metadata": {
    "colab": {},
    "colab_type": "code",
    "id": "HnrOd5OGsLSw",
    "pycharm": {
     "is_executing": false
    }
   },
   "outputs": [],
   "source": [
    "model_base = DQN(env.observation_space.shape[0], env.action_space.n)\n",
    "\n",
    "if USE_CUDA:\n",
    "    model_base = model_base.cuda()\n",
    "    \n",
    "optimizer = optim.Adam(model_base.parameters())"
   ]
  },
  {
   "cell_type": "markdown",
   "metadata": {
    "colab_type": "text",
    "id": "j5ReYOClsLTD"
   },
   "source": [
    "#### Computing Temporal Difference Loss"
   ]
  },
  {
   "cell_type": "code",
   "execution_count": 11,
   "metadata": {
    "colab": {},
    "colab_type": "code",
    "id": "OIWe4vfOsLTE",
    "pycharm": {
     "is_executing": false
    }
   },
   "outputs": [],
   "source": [
    "def compute_td_loss_dqn(state, action, reward, next_state, done):\n",
    "    \"\"\"\n",
    "    Parameters\n",
    "    ----------\n",
    "    state: numpy array\n",
    "        current state of env\n",
    "    action: int\n",
    "        action you take in env\n",
    "    reward: int\n",
    "        reward for the action\n",
    "    next_state: numpy array\n",
    "        next state given current state and action\n",
    "    done: bool\n",
    "        if it's end of the episode.\n",
    "    \n",
    "    Returns\n",
    "    -------\n",
    "    loss: 1d-tensor\n",
    "\n",
    "    \"\"\"\n",
    "    # converting variables to tensors\n",
    "    state = Variable(torch.FloatTensor(np.float32(state)))\n",
    "\n",
    "    with torch.no_grad():\n",
    "        next_state = Variable(torch.FloatTensor(np.float32(next_state)))\n",
    "    \n",
    "    action = Variable(torch.from_numpy(np.array(action)))\n",
    "\n",
    "    reward = Variable(torch.from_numpy(np.array(reward)))\n",
    "    \n",
    "    done = Variable(torch.from_numpy(np.array(int(done))))\n",
    "    \n",
    "    # TODO:- predict q_values\n",
    "    q_values = model_base.forward(state)\n",
    "    \n",
    "    # TODO:- predict q_values of next state\n",
    "    next_q_values = model_base.forward(next_state)\n",
    "    \n",
    "    # TODO:- get corresponding action's q-value from predicted q-values\n",
    "    # hint:- there is a very optimal and good way to do this tensor operations check (gather)\n",
    "    q_value = torch.gather(q_values,0,action.long())    \n",
    "    \n",
    "    next_q_value = next_q_values.max(0)[0]\n",
    "    \n",
    "    # TODO:- calculate expected q value based on bellman eq.\n",
    "    expected_q_value = reward + gamma * next_q_value if not done else reward\n",
    "    \n",
    "    # TODO:- calculate MSE for back propagation of loss\n",
    "    # Hint:- you can't do an operation between a tensor and int. keep an eye on your variable type ;).\n",
    "    loss = F.mse_loss(expected_q_value , q_value)\n",
    "    \n",
    "    # back propagating your loss\n",
    "    optimizer.zero_grad()\n",
    "    loss.backward()\n",
    "    optimizer.step()\n",
    "    \n",
    "    return loss"
   ]
  },
  {
   "cell_type": "code",
   "execution_count": 12,
   "metadata": {
    "colab": {},
    "colab_type": "code",
    "id": "II3YFY1csLTQ",
    "pycharm": {
     "is_executing": false
    }
   },
   "outputs": [],
   "source": [
    "def plot(frame_idx, rewards, losses):\n",
    "    \"\"\"\n",
    "    Parameters\n",
    "    ----------\n",
    "    frame_idx: int\n",
    "        frame id\n",
    "    rewards: int\n",
    "        accumulated reward\n",
    "    losses: int\n",
    "        loss\n",
    "    \"\"\"\n",
    "    clear_output(True)\n",
    "    plt.figure(figsize=(20,5))\n",
    "    plt.subplot(131)\n",
    "    plt.title('frame %s. reward: %s' % (frame_idx, np.mean(rewards[-10:])))\n",
    "    plt.plot(rewards)\n",
    "    plt.subplot(132)\n",
    "    plt.title('loss')\n",
    "    plt.plot(losses)\n",
    "    plt.show()"
   ]
  },
  {
   "cell_type": "code",
   "execution_count": 13,
   "metadata": {
    "colab": {
     "base_uri": "https://localhost:8080/",
     "height": 336
    },
    "colab_type": "code",
    "id": "GedJCkAEsLTX",
    "outputId": "e3e59612-a715-4aef-ad5d-44ed1ffed77d",
    "pycharm": {
     "is_executing": false
    }
   },
   "outputs": [
    {
     "data": {
      "text/plain": "<Figure size 1440x360 with 2 Axes>",
      "image/png": "[encoded data removed]"
     },
     "metadata": {
      "needs_background": "light"
     },
     "output_type": "display_data"
    }
   ],
   "source": [
    "num_frames = 20000\n",
    "gamma      = 0.99\n",
    "\n",
    "losses = []\n",
    "all_rewards = []\n",
    "episode_reward = 0\n",
    "\n",
    "state = env.reset()\n",
    "for frame_idx in range(1, num_frames + 1):\n",
    "    epsilon = epsilon_by_frame(frame_idx)\n",
    "    action = model_base.act(state, epsilon)\n",
    "    \n",
    "    next_state, reward, done, _ = env.step(action)\n",
    "    \n",
    "    state = next_state\n",
    "    episode_reward += reward\n",
    "    \n",
    "    if done:\n",
    "        state = env.reset()\n",
    "        all_rewards.append(episode_reward)\n",
    "        episode_reward = 0\n",
    "        \n",
    "    \n",
    "    loss = compute_td_loss_dqn(state, action, reward, next_state, done)\n",
    "    losses.append(loss.item())\n",
    "        \n",
    "    if frame_idx % 200 == 0:\n",
    "        plot(frame_idx, all_rewards, losses)"
   ]
  },
  {
   "cell_type": "markdown",
   "metadata": {
    "colab_type": "text",
    "id": "iJo-8GOgsLTf"
   },
   "source": [
    "### Deep Q-Network with Replay buffer"
   ]
  },
  {
   "cell_type": "markdown",
   "metadata": {
    "colab_type": "text",
    "id": "iLh3kVOAsLTh"
   },
   "source": [
    "#### Experience Replay\n",
    "\n",
    "Experience replay will help us to handle two things:\n",
    "\n",
    "Avoid forgetting previous experiences.\n",
    "Reduce correlations between experiences.\n",
    "\n",
    "> * **Avoid forgetting previous experiences** : With using same network to generise we run into a problem. Since the environment is sequential we see new state, take action and overwrite the weights of our previous experience. Since all the weights are shared they form a high correlation between actions and states. We can greatly stablise our problem if we keep our previous experiences and learn from them as well. In environments like atari where your player dies and start episode again, training on these previous experiences come in handy as now agent still remember from previous experiences.\n",
    "> * **Reduce correlations between experiences**: We have another problem — we know that every action affects the next state. This outputs a sequence of experience tuples which can be highly correlated.\n",
    "If we train the network in sequential order, we risk our agent being influenced by the effect of this correlation.\n",
    "By sampling from the replay buffer at random, we can break this correlation. This prevents action values from oscillating or diverging catastrophically.\n",
    "\n"
   ]
  },
  {
   "cell_type": "code",
   "execution_count": 14,
   "metadata": {
    "colab": {},
    "colab_type": "code",
    "id": "TIQVMpGAsLTi",
    "pycharm": {
     "is_executing": false
    }
   },
   "outputs": [],
   "source": [
    "model_batch = DQN(env.observation_space.shape[0], env.action_space.n)\n",
    "\n",
    "if USE_CUDA:\n",
    "    model_batch = model_batch.cuda()\n",
    "    \n",
    "optimizer = optim.Adam(model_batch.parameters())"
   ]
  },
  {
   "cell_type": "markdown",
   "metadata": {
    "colab_type": "text",
    "id": "uNAi8VmysLTr"
   },
   "source": [
    "#### Replay Buffer"
   ]
  },
  {
   "cell_type": "code",
   "execution_count": 15,
   "metadata": {
    "colab": {},
    "colab_type": "code",
    "id": "nAWdNXgnsLTw",
    "pycharm": {
     "is_executing": false
    }
   },
   "outputs": [],
   "source": [
    "class ReplayBuffer(object):\n",
    "    def __init__(self, capacity):\n",
    "        \"\"\"\n",
    "        Parameters\n",
    "        ----------\n",
    "        capacity: int\n",
    "            the length of your buffer\n",
    "        \"\"\"\n",
    "        self.buffer = deque(maxlen=capacity)\n",
    "    \n",
    "    def push(self, state, action, reward, next_state, done):\n",
    "        state      = np.expand_dims(state, 0)\n",
    "        next_state = np.expand_dims(next_state, 0)\n",
    "            \n",
    "        self.buffer.append((state, action, reward, next_state, done))\n",
    "    \n",
    "    def sample(self, batch_size):\n",
    "        \"\"\"\n",
    "        batch_size: int\n",
    "        \"\"\"\n",
    "        state, action, reward, next_state, done = zip(*random.sample(self.buffer, batch_size))\n",
    "        return np.concatenate(state), action, reward, np.concatenate(next_state), done\n",
    "    \n",
    "    def __len__(self):\n",
    "        return len(self.buffer)"
   ]
  },
  {
   "cell_type": "markdown",
   "metadata": {
    "colab_type": "text",
    "id": "q4zq_anbsLT5"
   },
   "source": [
    "#### Compute TD loss\n",
    "Reason we are redefining it is because with replay buffer now you are gonna save your experience, gather it from your replay buffer and train model on it again. \n",
    "<br>\n",
    "Now since it's a batch operation you have added an extra axis and you'll have operations in different axis."
   ]
  },
  {
   "cell_type": "code",
   "execution_count": 16,
   "metadata": {
    "colab": {},
    "colab_type": "code",
    "id": "3QYnGY_KsLT6",
    "pycharm": {
     "is_executing": false
    }
   },
   "outputs": [],
   "source": [
    "def compute_td_loss_batch(batch_size):\n",
    "    \"\"\"\n",
    "    Parameters\n",
    "    ----------\n",
    "    batch_size: int\n",
    "    \n",
    "    Returns\n",
    "    -------\n",
    "    loss: tensor\n",
    "    \"\"\"\n",
    "    state, action, reward, next_state, done = replay_buffer.sample(batch_size)\n",
    "    \n",
    "    state      = Variable(torch.FloatTensor(np.float32(state)))\n",
    "    with torch.no_grad():\n",
    "        next_state = Variable(torch.FloatTensor(np.float32(next_state)))\n",
    "    action     = Variable(torch.LongTensor(action))\n",
    "    reward     = Variable(torch.FloatTensor(reward))\n",
    "    done       = Variable(torch.FloatTensor(done))\n",
    "    \n",
    "    # TODO: predict q_values. \n",
    "    # Hint:- remeber it's a batch prediction so there will be extra dimention.\n",
    "    q_values = model_base.forward(state)\n",
    "    \n",
    "    # TODO: predict next state's q_values.\n",
    "    next_q_values = model_base.forward(next_state)\n",
    "\n",
    "    # TODO: get the q_values based on actions you took.\n",
    "    #Hint:- the logic should be same as previous one but remember there is an extra dimention.\n",
    "    q_value = q_values.gather(1, action.unsqueeze(1)).squeeze(1)\n",
    "    \n",
    "    next_q_value = next_q_values.max(1)[0]\n",
    "    \n",
    "    # TODO: calculate expected q value based on bellman eq.\n",
    "    expected_q_value = reward + ((gamma * next_q_value) * ((-1 + done) * -1))\n",
    "    \n",
    "    # TODO: calculate MSE\n",
    "    if expected_q_value.__sizeof__() != q_value.__sizeof__():\n",
    "        print(\"\")\n",
    "    loss = F.mse_loss(expected_q_value , q_value)\n",
    "        \n",
    "    optimizer.zero_grad()\n",
    "    loss.backward()\n",
    "    optimizer.step()\n",
    "    \n",
    "    return loss"
   ]
  },
  {
   "cell_type": "markdown",
   "metadata": {
    "colab_type": "text",
    "id": "-qcjlbBTsLUE"
   },
   "source": [
    "As mentioned previously, DQN itself is not stable but we stablise it by multiple methods. Replay buffer is one of them. <br>\n",
    "If your performance of DQN with replay buffer is same as previous, Try running it couple of times"
   ]
  },
  {
   "cell_type": "code",
   "execution_count": 17,
   "metadata": {
    "colab": {
     "base_uri": "https://localhost:8080/",
     "height": 964
    },
    "colab_type": "code",
    "id": "WyHzgdw_sLUG",
    "outputId": "aac65b5e-dcaf-421b-b92d-3038a7d000c4",
    "pycharm": {
     "is_executing": false
    }
   },
   "outputs": [
    {
     "data": {
      "text/plain": "<Figure size 1440x360 with 2 Axes>",
      "image/png": "[encoded data removed]"
     },
     "metadata": {
      "needs_background": "light"
     },
     "output_type": "display_data"
    }
   ],
   "source": [
    "num_frames = 20000\n",
    "batch_size = 32\n",
    "gamma      = 0.99\n",
    "replay_buffer = ReplayBuffer(1000)\n",
    "losses = []\n",
    "all_rewards = []\n",
    "episode_reward = 0\n",
    "count = 0\n",
    "state = env.reset()\n",
    "for frame_idx in range(1, num_frames + 1):\n",
    "    epsilon = epsilon_by_frame(frame_idx)\n",
    "    action = model_batch.act(state, epsilon)\n",
    "    next_state, reward, done, _ = env.step(action)\n",
    "    replay_buffer.push(state, action, reward, next_state, done)\n",
    "    \n",
    "    state = next_state\n",
    "    episode_reward += reward\n",
    "    \n",
    "    if done:\n",
    "        state = env.reset()\n",
    "        all_rewards.append(episode_reward)\n",
    "        episode_reward = 0\n",
    "        \n",
    "    if len(replay_buffer) > batch_size:\n",
    "        loss = compute_td_loss_batch(batch_size)\n",
    "        loss = loss.data.cpu().numpy().tolist()\n",
    "        losses.append(loss)\n",
    "        \n",
    "    if frame_idx % 200 == 0:\n",
    "        count = plot(frame_idx, all_rewards, losses)"
   ]
  },
  {
   "cell_type": "markdown",
   "metadata": {
    "colab_type": "text",
    "id": "V3n2E_hCsLUM"
   },
   "source": [
    "--------"
   ]
  },
  {
   "cell_type": "markdown",
   "metadata": {
    "colab_type": "text",
    "id": "XbIY7JqjsLUP"
   },
   "source": [
    "### DQN with target network"
   ]
  },
  {
   "cell_type": "markdown",
   "metadata": {
    "colab_type": "text",
    "id": "CO4C9q0fsLUR"
   },
   "source": [
    "We saw in the *Deep Q Learning* that, when we want to calculate the TD error (aka the loss), we calculate the difference between the TD target (Q_target) and the current Q value (estimation of Q). <br>\n",
    "\n",
    "But **we don’t have any idea of the real TD target**. We need to estimate it. Using the **Bellman equation**, we saw that the TD target is just the reward of taking that action at that state plus the discounted highest Q value for the next state. <br>\n",
    "\n",
    "However, the problem is that we using the same parameters (weights) for estimating the target and the Q value. As a consequence, there is a big correlation between the TD target and the parameters (w) we are changing.\n",
    "\n",
    "Therefore, it means that at every step of training, our Q values shift but also the target value shifts. So, we’re getting closer to our target but the target is also moving. It’s like chasing a moving target! This lead to a big oscillation in training.\n",
    "\n",
    "To avoid this oscillation instead, we can use the idea of fixed Q-targets:\n",
    "\n",
    "> * Using a separate network with a fixed parameter (we'll call it Target network) for estimating the TD target. <br>\n",
    "while we train our DQN network.\n",
    "> * After some number of steps, we copy the parameters from our DQN network to update the target network.\n",
    "\n",
    "We’ll have more stable learning because the target function stays fixed for a while.\n",
    "\n",
    "In current implementation you won't be using Replay buffer, just *Target network*."
   ]
  },
  {
   "cell_type": "code",
   "execution_count": 18,
   "metadata": {
    "colab": {},
    "colab_type": "code",
    "id": "ecgOkkj1sLUU",
    "pycharm": {
     "is_executing": false
    }
   },
   "outputs": [],
   "source": [
    "current_model_target = DQN(env.observation_space.shape[0], env.action_space.n)\n",
    "target_model_target  = DQN(env.observation_space.shape[0], env.action_space.n)\n",
    "\n",
    "if USE_CUDA:\n",
    "    current_model_target = current_model_target.cuda()\n",
    "    target_model_target  = target_model_target.cuda()\n",
    "    \n",
    "optimizer = optim.Adam(current_model_target.parameters())"
   ]
  },
  {
   "cell_type": "markdown",
   "metadata": {
    "colab_type": "text",
    "id": "trsSLQ0WsLUf"
   },
   "source": [
    "#### Sync model"
   ]
  },
  {
   "cell_type": "code",
   "execution_count": 19,
   "metadata": {
    "colab": {},
    "colab_type": "code",
    "id": "yaSGcxEMsLUh",
    "pycharm": {
     "is_executing": false
    }
   },
   "outputs": [],
   "source": [
    "def update_target(current_model, target_model):\n",
    "    \"\"\"\n",
    "    Parameters\n",
    "    ----------\n",
    "    current_model: model\n",
    "    \n",
    "    target_model: model\n",
    "    \"\"\"\n",
    "    target_model.load_state_dict(current_model.state_dict())"
   ]
  },
  {
   "cell_type": "code",
   "execution_count": 20,
   "metadata": {
    "colab": {},
    "colab_type": "code",
    "id": "uDEKgBuVsLUp",
    "pycharm": {
     "is_executing": false
    }
   },
   "outputs": [],
   "source": [
    "# initialise network as same as they may have random values in their weights\n",
    "update_target(current_model_target, target_model_target)"
   ]
  },
  {
   "cell_type": "markdown",
   "metadata": {
    "colab_type": "text",
    "id": "q_SgFm5-sLUv"
   },
   "source": [
    "#### Compute TD loss"
   ]
  },
  {
   "cell_type": "code",
   "execution_count": 21,
   "metadata": {
    "colab": {},
    "colab_type": "code",
    "id": "N0s8-wyUsLUx",
    "pycharm": {
     "is_executing": false
    }
   },
   "outputs": [],
   "source": [
    "def compute_td_loss_target(state, action, reward, next_state, done):\n",
    "    \n",
    "    state      = Variable(torch.FloatTensor(np.float32(state)))\n",
    "    with torch.no_grad():\n",
    "        next_state = Variable(torch.FloatTensor(np.float32(next_state)))\n",
    "    action  = Variable(torch.from_numpy(np.array(action)))\n",
    "    reward  = Variable(torch.from_numpy(np.array(reward)))\n",
    "    done = Variable(torch.from_numpy(np.array(int(done))))\n",
    "    \n",
    "    #TODO:- predict q_values.\n",
    "    q_values = current_model_target.forward(state)\n",
    "    \n",
    "    # TODO:- predict next states's q_values based on target.\n",
    "    next_q_values = current_model_target.forward(next_state)\n",
    "    \n",
    "    # TODO:- Get q-values for actions agent took.\n",
    "    q_value = q_values.gather(0, action.long())\n",
    "    \n",
    "    # TODO:- gather next q_values of target model.\n",
    "    next_q_state_values = target_model_target.forward(next_state)\n",
    "    # Hint:- next_q_values = next_q_state_values[maximum of next_q_values]\n",
    "    next_q_value = next_q_state_values[torch.argmax(next_q_values)]\n",
    "    \n",
    "    # TODO:- calculate expected q value based on bellman eq.\n",
    "    expected_q_value = reward + gamma * next_q_value if not done else reward\n",
    "\n",
    "    # TODO:- MSE\n",
    "    loss = F.mse_loss(expected_q_value , q_value)\n",
    "        \n",
    "    optimizer.zero_grad()\n",
    "    loss.backward()\n",
    "    optimizer.step()\n",
    "    \n",
    "    return loss"
   ]
  },
  {
   "cell_type": "code",
   "execution_count": 22,
   "metadata": {
    "colab": {},
    "colab_type": "code",
    "id": "udGjk7phsLU-",
    "pycharm": {
     "is_executing": false
    }
   },
   "outputs": [
    {
     "data": {
      "text/plain": "<Figure size 1440x360 with 2 Axes>",
      "image/png": "[encoded data removed]"
     },
     "metadata": {
      "needs_background": "light"
     },
     "output_type": "display_data"
    }
   ],
   "source": [
    "num_frames = 20000\n",
    "batch_size = 32\n",
    "gamma      = 0.99\n",
    "\n",
    "losses = []\n",
    "all_rewards = []\n",
    "episode_reward = 0\n",
    "\n",
    "state = env.reset()\n",
    "for frame_idx in range(1, num_frames + 1):\n",
    "    epsilon = epsilon_by_frame(frame_idx)\n",
    "    action = current_model_target.act(state, epsilon)\n",
    "    \n",
    "    next_state, reward, done, _ = env.step(action)\n",
    "    \n",
    "    state = next_state\n",
    "    episode_reward += reward\n",
    "    \n",
    "    if done:\n",
    "        state = env.reset()\n",
    "        all_rewards.append(episode_reward)\n",
    "        episode_reward = 0\n",
    "        \n",
    "    loss = compute_td_loss_target(state, action, reward, next_state, done)\n",
    "    losses.append(loss.data)\n",
    "        \n",
    "    if frame_idx % 200 == 0:\n",
    "        plot(frame_idx, all_rewards, losses)\n",
    "        \n",
    "    if frame_idx % 100 == 0:\n",
    "        update_target(current_model_target, target_model_target)\n",
    "        "
   ]
  },
  {
   "cell_type": "markdown",
   "metadata": {
    "colab_type": "text",
    "id": "Ns1OymZVsLVF"
   },
   "source": [
    "--------"
   ]
  },
  {
   "cell_type": "markdown",
   "metadata": {
    "colab_type": "text",
    "id": "y4TJzD_AsLVH"
   },
   "source": [
    "### DQN with target network and Replay buffer\n"
   ]
  },
  {
   "cell_type": "markdown",
   "metadata": {
    "colab_type": "text",
    "id": "ake4dpTtsLVJ"
   },
   "source": [
    "Let's try adding Replay buffer"
   ]
  },
  {
   "cell_type": "code",
   "execution_count": 23,
   "metadata": {
    "colab": {},
    "colab_type": "code",
    "id": "sdH7aqL0sLVK",
    "pycharm": {
     "is_executing": false
    }
   },
   "outputs": [],
   "source": [
    "current_model_dqn = DQN(env.observation_space.shape[0], env.action_space.n)\n",
    "target_model_dqn  = DQN(env.observation_space.shape[0], env.action_space.n)\n",
    "\n",
    "if USE_CUDA:\n",
    "    current_model_dqn = current_model_dqn.cuda()\n",
    "    target_model_dqn  = target_model_dqn.cuda()\n",
    "    \n",
    "optimizer = optim.Adam(current_model_dqn.parameters())\n",
    "update_target(current_model_dqn, target_model_dqn)\n",
    "replay_buffer = ReplayBuffer(1000)"
   ]
  },
  {
   "cell_type": "markdown",
   "metadata": {
    "colab_type": "text",
    "id": "l5qK68J8sLVS"
   },
   "source": [
    "#### Compute TD loss"
   ]
  },
  {
   "cell_type": "code",
   "execution_count": 24,
   "metadata": {
    "colab": {},
    "colab_type": "code",
    "id": "spscvgYysLVU",
    "pycharm": {
     "is_executing": false
    }
   },
   "outputs": [],
   "source": [
    "def compute_td_loss_target_batch(batch_size):\n",
    "    state, action, reward, next_state, done = replay_buffer.sample(batch_size)\n",
    "\n",
    "    state      = Variable(torch.FloatTensor(np.float32(state)))\n",
    "    next_state = Variable(torch.FloatTensor(np.float32(next_state)))\n",
    "    action     = Variable(torch.LongTensor(action))\n",
    "    reward     = Variable(torch.FloatTensor(reward))\n",
    "    done       = Variable(torch.FloatTensor(done))\n",
    "\n",
    "    # Hint:- most of the operations should be similar to previous impletations.\n",
    "    \n",
    "    #TODO:- predict q_values.\n",
    "    q_values = current_model_dqn.forward(state)\n",
    "    \n",
    "    # TODO:- predict next states's q_values based on target.\n",
    "    next_q_values = current_model_dqn.forward(next_state)\n",
    "    \n",
    "    # TODO:- Get q-values for actions agent took.\n",
    "    q_value = q_values.gather(1,action.unsqueeze(1)).squeeze(1)\n",
    "    \n",
    "    # TODO:- gather maximum of next q_values  \n",
    "    next_q_state_values = target_model_target.forward(next_state)\n",
    "    i = torch.argmax(next_q_values,1)\n",
    "    next_q_value = next_q_state_values.gather(1,i.unsqueeze(1)).squeeze(1)\n",
    "    # TODO:- calculate expected q value based on bellman eq.\n",
    "    expected_q_value = reward + ((gamma * next_q_value) * ((-1 + done) * -1))\n",
    "      \n",
    "    # TODO MSE\n",
    "    loss = F.mse_loss(q_value, expected_q_value)\n",
    "        \n",
    "    optimizer.zero_grad()\n",
    "    loss.backward()\n",
    "    optimizer.step()\n",
    "    \n",
    "    return loss"
   ]
  },
  {
   "cell_type": "code",
   "execution_count": null,
   "metadata": {
    "colab": {},
    "colab_type": "code",
    "id": "-8XrW3gpsLVc",
    "outputId": "9add27c3-5cdd-4c79-dc42-22e04ed755ba",
    "pycharm": {
     "is_executing": true
    }
   },
   "outputs": [
    {
     "data": {
      "text/plain": "<Figure size 1440x360 with 2 Axes>",
      "image/png": "[encoded data removed]"
     },
     "metadata": {
      "needs_background": "light"
     },
     "output_type": "display_data"
    }
   ],
   "source": [
    "num_frames = 20000\n",
    "batch_size = 32\n",
    "gamma      = 0.99\n",
    "\n",
    "losses = []\n",
    "all_rewards = []\n",
    "episode_reward = 0\n",
    "\n",
    "state = env.reset()\n",
    "for frame_idx in range(1, num_frames + 1):\n",
    "    epsilon = epsilon_by_frame(frame_idx)\n",
    "    action = current_model_dqn.act(state, epsilon)\n",
    "    next_state, reward, done, _ = env.step(action)\n",
    "    replay_buffer.push(state, action, reward, next_state, done)\n",
    "    \n",
    "    state = next_state\n",
    "    episode_reward += reward\n",
    "    \n",
    "    if done:\n",
    "        state = env.reset()\n",
    "        all_rewards.append(episode_reward)\n",
    "        episode_reward = 0\n",
    "        \n",
    "    if len(replay_buffer) > batch_size:\n",
    "        loss = compute_td_loss_target_batch(batch_size)\n",
    "        losses.append(loss.data)\n",
    "        \n",
    "    if frame_idx % 200 == 0:\n",
    "        plot(frame_idx, all_rewards, losses)\n",
    "        \n",
    "    if frame_idx % 100 == 0:\n",
    "        update_target(current_model_dqn, target_model_dqn)"
   ]
  },
  {
   "cell_type": "markdown",
   "metadata": {
    "colab_type": "text",
    "id": "4VkPPweJsLVi"
   },
   "source": [
    "--------"
   ]
  },
  {
   "cell_type": "markdown",
   "metadata": {
    "colab_type": "text",
    "id": "rdkbPnpJsLVj"
   },
   "source": [
    "### Double DQN"
   ]
  },
  {
   "cell_type": "markdown",
   "metadata": {
    "colab_type": "text",
    "id": "hU98OvXCsLVm"
   },
   "source": [
    "The target based DQN in early stages is naive, we use the action that maximizes the Q-value[next_state]. But in the early stage, this is a noisy approximation so we tend to overestimate the Q-value.\n",
    "\n",
    "To overcome the overestimation problem we can use both the networks the local and target as we have two sets of weights, so we can cross-validate it with both sets of weights and minimize the overestimation problem.\n"
   ]
  },
  {
   "cell_type": "code",
   "execution_count": null,
   "metadata": {
    "colab": {},
    "colab_type": "code",
    "id": "OVGey8CTsLVp",
    "pycharm": {
     "is_executing": true
    }
   },
   "outputs": [],
   "source": [
    "current_model_ddqn = DQN(env.observation_space.shape[0], env.action_space.n)\n",
    "target_model_ddqn  = DQN(env.observation_space.shape[0], env.action_space.n)\n",
    "\n",
    "if USE_CUDA:\n",
    "    current_model_ddqn = current_model_ddqn.cuda()\n",
    "    target_model_ddqn  = target_model_ddqn.cuda()\n",
    "    \n",
    "optimizer = optim.Adam(current_model_ddqn.parameters())\n",
    "update_target(current_model_ddqn, target_model_ddqn)\n",
    "replay_buffer = ReplayBuffer(1000)"
   ]
  },
  {
   "cell_type": "code",
   "execution_count": null,
   "metadata": {
    "colab": {},
    "colab_type": "code",
    "id": "hUFDNMrrsLVu",
    "pycharm": {
     "is_executing": true
    }
   },
   "outputs": [],
   "source": [
    "def compute_td_loss_doubleDQN(batch_size):\n",
    "    state, action, reward, next_state, done = replay_buffer.sample(batch_size)\n",
    "    \n",
    "    state      = Variable(torch.FloatTensor(np.float32(state)))\n",
    "    with torch.no_grad():\n",
    "        next_state = Variable(torch.FloatTensor(np.float32(next_state)))\n",
    "    action  = Variable(torch.from_numpy(np.array(action)))\n",
    "    reward     = Variable(torch.from_numpy(np.array(reward)))\n",
    "    done       = Variable(torch.from_numpy(np.array(int(done))))\n",
    "    \n",
    "    # TODO:- predict current model\n",
    "    q_values = current_model_ddqn.forward(state)\n",
    "    \n",
    "    # TODO:- predict next value from current model\n",
    "    next_q_values = current_model_ddqn.forward(next_state)\n",
    "    \n",
    "    # TODO:- predict next state values from target model\n",
    "    next_q_target_values = target_model_ddqn.forward(next_state)\n",
    "    \n",
    "    # Gather only values based on action\n",
    "    q_value = q_values.gather(1, action.unsqueeze(1)).squeeze(1)\n",
    "    \n",
    "    # TODO:- calculate next state q_values that are not over estimated\n",
    "    # Hint:- next_q_value = next state q-values from target[maximum of next state q-values from current model]\n",
    "    next_q_value = next_q_target_values.gather(1, torch.argmax(next_q_values, 1))\n",
    "    \n",
    "    # TODO:- calculate expected Q-values of future\n",
    "    expected_q_value = reward + ((gamma * next_q_value) * ((-1 + done) * -1))\n",
    "      \n",
    "    \n",
    "    # TODO:- apply MSE\n",
    "    loss =F.mse_loss(q_value, expected_q_value)\n",
    "        \n",
    "    optimizer.zero_grad()\n",
    "    loss.backward()\n",
    "    optimizer.step()\n",
    "    \n",
    "    return loss"
   ]
  },
  {
   "cell_type": "code",
   "execution_count": null,
   "metadata": {
    "colab": {},
    "colab_type": "code",
    "id": "MSDlVhDnsLVy",
    "pycharm": {
     "is_executing": true
    }
   },
   "outputs": [],
   "source": [
    "num_frames = 20000\n",
    "batch_size = 32\n",
    "gamma      = 0.99\n",
    "\n",
    "losses = []\n",
    "all_rewards = []\n",
    "episode_reward = 0\n",
    "\n",
    "state = env.reset()\n",
    "for frame_idx in range(1, num_frames + 1):\n",
    "    epsilon = epsilon_by_frame(frame_idx)\n",
    "    action = current_model_ddqn.act(state, epsilon)\n",
    "    \n",
    "    next_state, reward, done, _ = env.step(action)\n",
    "    replay_buffer.push(state, action, reward, next_state, done)\n",
    "    \n",
    "    state = next_state\n",
    "    episode_reward += reward\n",
    "    \n",
    "    if done:\n",
    "        state = env.reset()\n",
    "        all_rewards.append(episode_reward)\n",
    "        episode_reward = 0\n",
    "        \n",
    "    loss = compute_td_loss_doubleDQN(batch_size)\n",
    "    losses.append(loss.data)\n",
    "        \n",
    "    if frame_idx % 200 == 0:\n",
    "        plot(frame_idx, all_rewards, losses)\n",
    "        \n",
    "    if frame_idx % 100 == 0:\n",
    "        update_target(current_model_ddqn, target_model_ddqn)"
   ]
  },
  {
   "cell_type": "markdown",
   "metadata": {
    "colab_type": "text",
    "id": "Y0eGrp45sLV5"
   },
   "source": [
    "-------"
   ]
  },
  {
   "cell_type": "markdown",
   "metadata": {
    "colab_type": "text",
    "id": "0pjbGzB8sLV6"
   },
   "source": [
    "### Dueling Deep Q Networks\n",
    "The key motivation behind this Dueling-DQN is that, for some problem statements, it is unnecessary to know the value of each action at every timestep. \n",
    "A simple example is of the Atari game Enduro, where it is not necessary to know which action to take until collision is imminent.\n",
    "\n",
    "<img src='assets/enduro.gif' width=50% />\n",
    "\n",
    "##### Architecture\n",
    "Like the standard DQN architecture, we have layers to process data. From there, we split the network into two separate streams, one for estimating the state-value and the other for estimating state-dependent action advantages. After the two streams, the last module of the network combines the state-value and advantage outputs.\n"
   ]
  },
  {
   "cell_type": "code",
   "execution_count": null,
   "metadata": {
    "colab": {},
    "colab_type": "code",
    "id": "LKZi6UunsLV7",
    "pycharm": {
     "is_executing": true
    }
   },
   "outputs": [],
   "source": [
    "class DuelingDQN(nn.Module):\n",
    "    def __init__(self, num_inputs, num_outputs):\n",
    "        super(DuelingDQN, self).__init__()\n",
    "        self.num_actions = num_outputs\n",
    "        \n",
    "        self.feature = nn.Sequential(\n",
    "            nn.Linear(num_inputs, 128),\n",
    "            nn.ReLU()\n",
    "        )\n",
    "        \n",
    "        self.advantage = nn.Sequential(\n",
    "            nn.Linear(128, 128),\n",
    "            nn.ReLU(),\n",
    "            nn.Linear(128, num_outputs)\n",
    "        )\n",
    "        \n",
    "        self.value = nn.Sequential(\n",
    "            nn.Linear(128, 128),\n",
    "            nn.ReLU(),\n",
    "            nn.Linear(128, 1)\n",
    "        )\n",
    "        \n",
    "    def forward(self, x):\n",
    "        x = self.feature(x)\n",
    "        advantage = self.advantage(x)\n",
    "        value     = self.value(x)\n",
    "        return value + advantage  - advantage.mean()\n",
    "    \n",
    "    def act(self, state, epsilon):\n",
    "        if random.random() > epsilon:\n",
    "            with torch.no_grad():\n",
    "                state   = Variable(torch.FloatTensor(state).unsqueeze(0))\n",
    "            q_value = self.forward(state)\n",
    "            action  = q_value.max(1)[1].data[0].numpy().tolist()\n",
    "        else:\n",
    "            action = random.randrange(self.num_actions)\n",
    "        return action"
   ]
  },
  {
   "cell_type": "code",
   "execution_count": null,
   "metadata": {
    "colab": {},
    "colab_type": "code",
    "id": "3Av8jJq8sLV_",
    "pycharm": {
     "is_executing": true
    }
   },
   "outputs": [],
   "source": [
    "current_model_dueldqn = DuelingDQN(env.observation_space.shape[0], env.action_space.n)\n",
    "target_model_dueldqn  = DuelingDQN(env.observation_space.shape[0], env.action_space.n)\n",
    "\n",
    "if USE_CUDA:\n",
    "    current_model_dueldqn = current_model_dueldqn.cuda()\n",
    "    target_model_dueldqn  = target_model_dueldqn.cuda()\n",
    "    \n",
    "optimizer = optim.Adam(current_model_dueldqn.parameters())\n",
    "\n",
    "replay_buffer = ReplayBuffer(1000)"
   ]
  },
  {
   "cell_type": "markdown",
   "metadata": {
    "colab_type": "text",
    "id": "lNWqC70osLWG"
   },
   "source": [
    "#### Synchronize current policy net and target net"
   ]
  },
  {
   "cell_type": "code",
   "execution_count": null,
   "metadata": {
    "colab": {},
    "colab_type": "code",
    "id": "7uJNWz1ksLWH",
    "pycharm": {
     "is_executing": true
    }
   },
   "outputs": [],
   "source": [
    "update_target(current_model_dueldqn, target_model_dueldqn)"
   ]
  },
  {
   "cell_type": "code",
   "execution_count": null,
   "metadata": {
    "colab": {},
    "colab_type": "code",
    "id": "ZC5JvAVmsLWO",
    "pycharm": {
     "is_executing": true
    }
   },
   "outputs": [],
   "source": [
    "def compute_td_loss_duelingDQN(batch_size):\n",
    "    state, action, reward, next_state, done = replay_buffer.sample(batch_size)\n",
    "\n",
    "    state      = Variable(torch.FloatTensor(np.float32(state)))\n",
    "    next_state = Variable(torch.FloatTensor(np.float32(next_state)))\n",
    "    action     = Variable(torch.LongTensor(action))\n",
    "    reward     = Variable(torch.FloatTensor(reward))\n",
    "    done       = Variable(torch.FloatTensor(done))\n",
    "    \n",
    "    # TODO: Predict q_values from current model\n",
    "    q_values = current_model_dueldqn.forward(state)\n",
    "    \n",
    "    # TODO: Predict q_values from target model\n",
    "    next_q_values = target_model_dueldqn(next_state)\n",
    "    \n",
    "    # TODO: get q_values based on action from q_values\n",
    "    q_value = q_values.gather(1, action.unsqueeze(1)).squeeze(1) \n",
    "    \n",
    "    # TODO: find maximum of next_q_values \n",
    "    # Hint: keep in mind its a batch process so find maximum in correct axis\n",
    "    next_q_value = torch.max(next_q_values, 1)\n",
    "    \n",
    "    # TODO: calculate expected_q_value derived from bellman eq.\n",
    "    expected_q_value = reward + ((gamma * next_q_value) * ((-1 + done) * -1)) \n",
    "    \n",
    "    # TODO: calculate MSE between q_value and expected_q_value\n",
    "    loss = F.mse_loss(q_value, expected_q_value)\n",
    "        \n",
    "    optimizer.zero_grad()\n",
    "    loss.backward()\n",
    "    optimizer.step()\n",
    "    \n",
    "    return loss"
   ]
  },
  {
   "cell_type": "code",
   "execution_count": null,
   "metadata": {
    "colab": {},
    "colab_type": "code",
    "id": "Hl3u9ERssLWZ",
    "pycharm": {
     "is_executing": true
    }
   },
   "outputs": [],
   "source": [
    "num_frames = 20000\n",
    "batch_size = 32\n",
    "gamma      = 0.99\n",
    "\n",
    "losses = []\n",
    "all_rewards = []\n",
    "episode_reward = 0\n",
    "\n",
    "state = env.reset()\n",
    "for frame_idx in range(1, num_frames + 1):\n",
    "    epsilon = epsilon_by_frame(frame_idx)\n",
    "    action = current_model_dueldqn.act(state, epsilon)\n",
    "    \n",
    "    next_state, reward, done, _ = env.step(action)\n",
    "    replay_buffer.push(state, action, reward, next_state, done)\n",
    "    \n",
    "    state = next_state\n",
    "    episode_reward += reward\n",
    "    \n",
    "    if done:\n",
    "        state = env.reset()\n",
    "        all_rewards.append(episode_reward)\n",
    "        episode_reward = 0\n",
    "        \n",
    "    if len(replay_buffer) > batch_size:\n",
    "        loss = compute_td_loss_duelingDQN(batch_size)\n",
    "        losses.append(loss.data)\n",
    "        \n",
    "    if frame_idx % 200 == 0:\n",
    "        plot(frame_idx, all_rewards, losses)\n",
    "        \n",
    "    if frame_idx % 100 == 0:\n",
    "        update_target(current_model_dueldqn, target_model_dueldqn)"
   ]
  },
  {
   "cell_type": "markdown",
   "metadata": {
    "colab_type": "text",
    "id": "dbJiL4oWsLWh"
   },
   "source": [
    "------------"
   ]
  },
  {
   "cell_type": "markdown",
   "metadata": {
    "colab_type": "text",
    "id": "T1u1xePhsLWi"
   },
   "source": [
    "# Plot comparison of all agents"
   ]
  },
  {
   "cell_type": "code",
   "execution_count": null,
   "metadata": {
    "colab": {},
    "colab_type": "code",
    "id": "Cz4TuvDBsLWj",
    "pycharm": {
     "is_executing": true
    }
   },
   "outputs": [],
   "source": [
    "\"\"\"\n",
    "TODO: write a function to plot the performance of all previously discussed agents.\n",
    "Use test function to get their perform.\n",
    "\"\"\""
   ]
  },
  {
   "cell_type": "code",
   "metadata": {
    "colab_type": "text",
    "id": "B8wDjwsUsLWs",
    "pycharm": {
     "name": "#%%\n",
     "is_executing": true
    }
   },
   "source": [
    "test(env_id, model_base)\n",
    "test(env_id, model_batch)\n",
    "test(env_id, current_model_target)\n",
    "test(env_id, current_model_dqn)\n",
    "test(env_id, current_model_ddqn)\n",
    "test(env_id, current_model_dueldqn)"
   ],
   "execution_count": null,
   "outputs": []
  },
  {
   "cell_type": "markdown",
   "source": [
    "## Playing atari Pong with Double DQN"
   ],
   "metadata": {
    "collapsed": false
   }
  },
  {
   "cell_type": "markdown",
   "metadata": {
    "colab_type": "text",
    "id": "ACqwqaM-sLWu"
   },
   "source": [
    "You have successfully completed the DQN, Now we'll step up the complexity of our **Environment**. <br>\n",
    "With Complex visual environment like *Space invaders*, We'll need to include following steps:\n",
    "* Pre-process the input\n",
    "* Make our NN more complex\n",
    "> * Pre-process the input: To reduce the complexity of our states, to reduce the computation time needed for training and thus to keep network shallow we pre-process each state(frame) to convert it from RGB to grey scale. By doing this we reduce the 3 color channels (RGB) to 1 Grey. \n",
    "then we crop the top of frame where we see the score for 2 reasons\n",
    "    * Score doesn't matter as we are getting reward from env, thus it's just something we don't need.\n",
    "    * Score keeps on changing which introduces extra complexity adds more number of states. A small change in pixels potentially means new state\n",
    "> * Make our NN more complex: We introduce CNNs to preprocess the information from states(frames). You can further read on internet the advantages of CNNs over Fully connected layer. It's out of scope for this lab session.\n",
    "\n",
    "The new architecture will look something like this:-\n",
    "<img src='assets/atari.png' width=50% />\n",
    "\n",
    "This may seem complex but it's really not. we'll walk through step by step.\n",
    "\n",
    "1) Preprocess frame\n",
    "\n",
    "2) stack 4 frames: We stack frame to limit the problem of temporal limitation. \n",
    "  >* Temporal limitation: By looking at following image can you tell if the ball in the game of pong going left or right?\n",
    "    <img src='assets/pong.png' width=50% /> <br>\n",
    "    Thus we stack 4 frames to get context. If it's going left or right.\n",
    "\n",
    "3) Stack CNN layers.\n",
    "\n",
    "The above presented architecture is just an example. The complexity of your network depends on the Environment.\n",
    "\n",
    "Different environment have different scoring system. To avoid having different architectures to play different games we often **clip rewards**."
   ]
  },
  {
   "cell_type": "code",
   "execution_count": null,
   "metadata": {
    "colab": {},
    "colab_type": "code",
    "id": "Obx8qWmVsLWv",
    "pycharm": {
     "is_executing": true
    }
   },
   "outputs": [],
   "source": [
    "class ClipRewardEnv(gym.RewardWrapper):\n",
    "    def __init__(self, env):\n",
    "        gym.RewardWrapper.__init__(self, env)\n",
    "\n",
    "    def reward(self, reward):\n",
    "        \"\"\"Bin reward to {+1, 0, -1} by its sign.\"\"\"\n",
    "        return np.sign(reward)"
   ]
  },
  {
   "cell_type": "code",
   "execution_count": null,
   "metadata": {
    "colab": {},
    "colab_type": "code",
    "id": "N_TWgMYIsLW0",
    "pycharm": {
     "is_executing": true
    }
   },
   "outputs": [],
   "source": [
    "class LazyFrames(object):\n",
    "    def __init__(self, frames):\n",
    "        \"\"\"This object ensures that common frames between the observations are only stored once.\n",
    "        It exists purely to optimize memory usage which can be huge for DQN's 1M frames replay\n",
    "        buffers.\n",
    "        This object should only be converted to numpy array before being passed to the model.\n",
    "        You'd not believe how complex the previous solution was.\"\"\"\n",
    "        self._frames = frames\n",
    "        self._out = None\n",
    "\n",
    "    def _force(self):\n",
    "        if self._out is None:\n",
    "            self._out = np.concatenate(self._frames, axis=2)\n",
    "            self._frames = None\n",
    "        return self._out\n",
    "\n",
    "    def __array__(self, dtype=None):\n",
    "        out = self._force()\n",
    "        if dtype is not None:\n",
    "            out = out.astype(dtype)\n",
    "        return out\n",
    "\n",
    "    def __len__(self):\n",
    "        return len(self._force())\n",
    "\n",
    "    def __getitem__(self, i):\n",
    "        return self._force()[i]"
   ]
  },
  {
   "cell_type": "code",
   "execution_count": null,
   "metadata": {
    "colab": {},
    "colab_type": "code",
    "id": "IR5oT-pjsLXB",
    "pycharm": {
     "is_executing": true
    }
   },
   "outputs": [],
   "source": [
    "class FrameStack(gym.Wrapper):\n",
    "    def __init__(self, env, k):\n",
    "        \"\"\"Stack k last frames.\n",
    "        Returns lazy array, which is much more memory efficient.\n",
    "        See Also\n",
    "        --------\n",
    "        baselines.common.atari_wrappers.LazyFrames\n",
    "        \"\"\"\n",
    "        gym.Wrapper.__init__(self, env)\n",
    "        self.k = k\n",
    "        self.frames = deque([], maxlen=k)\n",
    "        shp = env.observation_space.shape\n",
    "        self.observation_space = gym.spaces.Box(low=0, high=255, shape=(shp[0], shp[1], shp[2] * k), dtype=np.uint8)\n",
    "\n",
    "    def reset(self):\n",
    "        ob = self.env.reset()\n",
    "        for _ in range(self.k):\n",
    "            self.frames.append(ob)\n",
    "        return self._get_ob()\n",
    "\n",
    "    def step(self, action):\n",
    "        ob, reward, done, info = self.env.step(action)\n",
    "        self.frames.append(ob)\n",
    "        return self._get_ob(), reward, done, info\n",
    "\n",
    "    def _get_ob(self):\n",
    "        assert len(self.frames) == self.k\n",
    "        return LazyFrames(list(self.frames))"
   ]
  },
  {
   "cell_type": "code",
   "execution_count": null,
   "metadata": {
    "colab": {},
    "colab_type": "code",
    "id": "gaXQWVitsLXI",
    "pycharm": {
     "is_executing": true
    }
   },
   "outputs": [],
   "source": [
    "class ScaledFloatFrame(gym.ObservationWrapper):\n",
    "    def __init__(self, env):\n",
    "        gym.ObservationWrapper.__init__(self, env)\n",
    "\n",
    "    def observation(self, observation):\n",
    "        # careful! This undoes the memory optimization, use\n",
    "        # with smaller replay buffers only.\n",
    "        return np.array(observation).astype(np.float32) / 255.0"
   ]
  },
  {
   "cell_type": "code",
   "execution_count": null,
   "metadata": {
    "colab": {},
    "colab_type": "code",
    "id": "cJBhnmbGsLXO",
    "pycharm": {
     "is_executing": true
    }
   },
   "outputs": [],
   "source": [
    "class PreProcessFrame(gym.ObservationWrapper):\n",
    "    def __init__(self, env, cfg):\n",
    "        \"\"\"Warp frames to 84x84 as done in the Nature paper and later work.\"\"\"\n",
    "        gym.ObservationWrapper.__init__(self, env)\n",
    "        self.width = cfg.frame_width\n",
    "        self.height = cfg.frame_height\n",
    "        self.observation_space = gym.spaces.Box(low=0, high=255,\n",
    "            shape=(self.height, self.width, 1), dtype=np.uint8)\n",
    "\n",
    "    def observation(self, frame):\n",
    "        frame = cv2.cvtColor(frame, cv2.COLOR_RGB2GRAY)\n",
    "        frame = cv2.resize(frame, (self.width, self.height), interpolation=cv2.INTER_AREA)\n",
    "        return frame[:, :, None]\n"
   ]
  },
  {
   "cell_type": "code",
   "execution_count": null,
   "metadata": {
    "colab": {},
    "colab_type": "code",
    "id": "cYsqRBrFsLXU",
    "pycharm": {
     "is_executing": true
    }
   },
   "outputs": [],
   "source": [
    "class ImageToPyTorch(gym.ObservationWrapper):\n",
    "    \"\"\"\n",
    "    Image shape to num_channels x weight x height\n",
    "    \"\"\"\n",
    "    def __init__(self, env):\n",
    "        super(ImageToPyTorch, self).__init__(env)\n",
    "        old_shape = self.observation_space.shape\n",
    "        self.observation_space = gym.spaces.Box(low=0.0, high=1.0, shape=(old_shape[-1], old_shape[0], old_shape[1]), dtype=np.uint8)\n",
    "\n",
    "    def observation(self, observation):\n",
    "        return np.swapaxes(observation, 2, 0)\n",
    "\n",
    "\n",
    "def convert_pytorch(env):\n",
    "    return ImageToPyTorch(env)"
   ]
  },
  {
   "cell_type": "code",
   "execution_count": null,
   "metadata": {
    "colab": {},
    "colab_type": "code",
    "id": "vhc43cCysLXd",
    "pycharm": {
     "is_executing": true
    }
   },
   "outputs": [],
   "source": [
    "def wrap_env(env, cfg,clip_rewards=True, frame_stack=True, scale=True):\n",
    "    \"\"\"Configure environment for DeepMind-style Atari.\n",
    "    \"\"\"\n",
    "    env = PreProcessFrame(env, cfg)\n",
    "    if scale:\n",
    "        env = ScaledFloatFrame(env)\n",
    "    if clip_rewards:\n",
    "        env = ClipRewardEnv(env)\n",
    "    if frame_stack:\n",
    "        env = FrameStack(env, cfg.frame_number)\n",
    "    return env"
   ]
  },
  {
   "cell_type": "code",
   "execution_count": null,
   "metadata": {
    "colab": {},
    "colab_type": "code",
    "id": "Km43lgj1sLXi",
    "pycharm": {
     "is_executing": true
    }
   },
   "outputs": [],
   "source": [
    "class Config:\n",
    "    \"\"\"Config for environment\"\"\"\n",
    "    def __init__(self):\n",
    "        self.frame_number = 4\n",
    "        self.frame_width = 84\n",
    "        self.frame_height = 84\n",
    "        \n",
    "    def __setitem__(self, key, value):\n",
    "        return setattr(self, key, value)"
   ]
  },
  {
   "cell_type": "code",
   "execution_count": null,
   "metadata": {
    "colab": {},
    "colab_type": "code",
    "id": "YfGynEJzsLXn",
    "pycharm": {
     "is_executing": true
    },
    "scrolled": true
   },
   "outputs": [],
   "source": [
    "env_id = \"PongNoFrameskip-v4\"\n",
    "config = Config()"
   ]
  },
  {
   "cell_type": "code",
   "execution_count": null,
   "metadata": {
    "colab": {},
    "colab_type": "code",
    "id": "awGkWFyqsLXt",
    "pycharm": {
     "is_executing": true
    }
   },
   "outputs": [],
   "source": [
    "class Environment:\n",
    "    def __init__(self, env_id, config):\n",
    "        self.env = gym.make(env_id)\n",
    "        self.env = wrap_env(self.env, config)\n",
    "        self.env = convert_pytorch(self.env)\n",
    "        self.observation_space = self.env.observation_space\n",
    "        self.action_space = self.env.action_space\n",
    "        self.spec = self.env.spec\n",
    "        self.states = None\n",
    "\n",
    "    def reset(self):\n",
    "        self.states = self.env.reset()\n",
    "        return self.states\n",
    "\n",
    "    def step(self, a):\n",
    "        self.states, r, done, info = self.env.step(a)\n",
    "        return self.states, r, done, info\n",
    "\n",
    "    def render(self):\n",
    "        self.env.render()\n",
    "\n",
    "    def close(self):\n",
    "        self.env.close()"
   ]
  },
  {
   "cell_type": "code",
   "execution_count": null,
   "metadata": {
    "colab": {},
    "colab_type": "code",
    "id": "NnknBRQmsLX1",
    "pycharm": {
     "is_executing": true
    }
   },
   "outputs": [],
   "source": [
    "class CnnDQN(nn.Module):\n",
    "    def __init__(self, input_shape, num_actions):\n",
    "        super(CnnDQN, self).__init__()\n",
    "        \n",
    "        self.input_shape = input_shape\n",
    "        self.num_actions = num_actions\n",
    "        \n",
    "        self.features = nn.Sequential(\n",
    "            nn.Conv2d(input_shape[0], 32, kernel_size=8, stride=4),\n",
    "            nn.ReLU(),\n",
    "            nn.Conv2d(32, 64, kernel_size=4, stride=2),\n",
    "            nn.ReLU(),\n",
    "            nn.Conv2d(64, 64, kernel_size=3, stride=1),\n",
    "            nn.ReLU()\n",
    "        )\n",
    "        \n",
    "        self.fc = nn.Sequential(\n",
    "            nn.Linear(self.feature_size(), 512),\n",
    "            nn.ReLU(),\n",
    "            nn.Linear(512, self.num_actions)\n",
    "        )\n",
    "        \n",
    "    def forward(self, x):\n",
    "        x = self.features(x)\n",
    "        x = x.view(x.size(0), -1)\n",
    "        x = self.fc(x)\n",
    "        return x\n",
    "    \n",
    "    def feature_size(self):\n",
    "        return self.features(autograd.Variable(torch.zeros(1, *self.input_shape))).view(1, -1).size(1)\n",
    "    \n",
    "    def act(self, state, epsilon):\n",
    "        if random.random() > epsilon:\n",
    "            with torch.no_grad():\n",
    "                state   = Variable(torch.FloatTensor(np.float32(state)).unsqueeze(0))\n",
    "            q_value = self.forward(state)\n",
    "            action  = q_value.max(1)[1].data\n",
    "        else:\n",
    "            action = random.randrange(env.action_space.n)\n",
    "        return action"
   ]
  },
  {
   "cell_type": "code",
   "execution_count": null,
   "metadata": {
    "colab": {},
    "colab_type": "code",
    "id": "IBdyzVSxsLX5",
    "pycharm": {
     "is_executing": true
    },
    "scrolled": true
   },
   "outputs": [],
   "source": [
    "env = Environment(env_id=env_id, config=config)\n",
    "current_model = CnnDQN(env.observation_space.shape, env.action_space.n)\n",
    "target_model  = CnnDQN(env.observation_space.shape, env.action_space.n)\n",
    "\n",
    "if USE_CUDA:\n",
    "    current_model = current_model.cuda()\n",
    "    target_model  = target_model.cuda()\n",
    "    \n",
    "optimizer = optim.Adam(current_model.parameters(), lr=0.0001)\n",
    "\n",
    "replay_initial = 1000\n",
    "replay_buffer = ReplayBuffer(10000)\n",
    "\n",
    "update_target(current_model, target_model)"
   ]
  },
  {
   "cell_type": "code",
   "execution_count": null,
   "metadata": {
    "colab": {},
    "colab_type": "code",
    "id": "GV52ttfNsLYD",
    "pycharm": {
     "is_executing": true
    }
   },
   "outputs": [],
   "source": [
    "epsilon_start = 1.0\n",
    "epsilon_final = 0.01\n",
    "epsilon_decay = 30000\n",
    "\n",
    "epsilon_by_frame = lambda frame_idx: epsilon_final + (epsilon_start - epsilon_final) * math.exp(-1. * frame_idx / epsilon_decay)"
   ]
  },
  {
   "cell_type": "code",
   "execution_count": null,
   "metadata": {
    "colab": {},
    "colab_type": "code",
    "id": "MJw09nY7sLYK",
    "outputId": "96c08e78-cf25-48d5-fc58-1349aa364746",
    "pycharm": {
     "is_executing": true
    }
   },
   "outputs": [],
   "source": [
    "num_frames = 100000\n",
    "batch_size = 32\n",
    "gamma      = 0.99\n",
    "\n",
    "losses = []\n",
    "all_rewards = []\n",
    "episode_reward = 0\n",
    "\n",
    "state = env.reset()\n",
    "for frame_idx in range(1, num_frames + 1):\n",
    "    epsilon = epsilon_by_frame(frame_idx)\n",
    "    action = current_model.act(state, epsilon)\n",
    "    \n",
    "    next_state, reward, done, _ = env.step(action)\n",
    "    replay_buffer.push(state, action, reward, next_state, done)\n",
    "    \n",
    "    state = next_state\n",
    "    episode_reward += reward\n",
    "    \n",
    "    if done:\n",
    "        state = env.reset()\n",
    "        all_rewards.append(episode_reward)\n",
    "        episode_reward = 0\n",
    "        \n",
    "    if len(replay_buffer) > replay_initial:\n",
    "        # TODO:- Based on Td_loss functions you have worked with write or\n",
    "        # choose a function to reuse here and justify your choice\n",
    "        loss = \n",
    "        losses.append(loss.data)\n",
    "        \n",
    "    if frame_idx % 10000 == 0:\n",
    "        plot(frame_idx, all_rewards, losses)\n",
    "        \n",
    "    if frame_idx % 1000 == 0:\n",
    "        update_target(current_model, target_model)"
   ]
  },
  {
   "cell_type": "code",
   "execution_count": null,
   "metadata": {
    "colab": {},
    "colab_type": "code",
    "id": "WyTyFYlcsLYT",
    "pycharm": {
     "is_executing": true
    }
   },
   "outputs": [],
   "source": []
  }
 ],
 "metadata": {
  "colab": {
   "name": "test.ipynb",
   "provenance": []
  },
  "kernelspec": {
   "display_name": "Python 3",
   "language": "python",
   "name": "python3"
  },
  "language_info": {
   "codemirror_mode": {
    "name": "ipython",
    "version": 3
   },
   "file_extension": ".py",
   "mimetype": "text/x-python",
   "name": "python",
   "nbconvert_exporter": "python",
   "pygments_lexer": "ipython3",
   "version": "3.7.7"
  },
  "pycharm": {
   "stem_cell": {
    "cell_type": "raw",
    "source": [],
    "metadata": {
     "collapsed": false
    }
   }
  }
 },
 "nbformat": 4,
 "nbformat_minor": 1
}